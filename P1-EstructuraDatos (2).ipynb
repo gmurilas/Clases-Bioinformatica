{
 "cells": [
  {
   "cell_type": "markdown",
   "id": "57e5a4ba",
   "metadata": {},
   "source": [
    "# PRACTICA 1 Estructuras de Datos\n",
    "\n",
    "### Resuelve las siguientes preguntas empleando lo aprendido con las estructuras de Datos"
   ]
  },
  {
   "cell_type": "markdown",
   "id": "092831f1",
   "metadata": {},
   "source": [
    "Pon el código debajo de cada pregunta. Añade tantas celdas de código como necesites."
   ]
  },
  {
   "cell_type": "markdown",
   "id": "94b6abb8",
   "metadata": {},
   "source": [
    "#### 1.- Escribe una ecuación que emplee multiplicación, división, un exponente, suma y resta y que sea igual a 100.25."
   ]
  },
  {
   "cell_type": "code",
   "execution_count": 3,
   "id": "4e5e660a",
   "metadata": {},
   "outputs": [
    {
     "data": {
      "text/plain": [
       "100.25"
      ]
     },
     "execution_count": 3,
     "metadata": {},
     "output_type": "execute_result"
    }
   ],
   "source": [
    "(10**2) + (50 / 2) - 5 * 5 + 0.25"
   ]
  },
  {
   "cell_type": "markdown",
   "id": "95ec00dc",
   "metadata": {},
   "source": [
    "#### 2.- ¿Qué harías para obtener la raíz cuadrada de 100?"
   ]
  },
  {
   "cell_type": "code",
   "execution_count": 5,
   "id": "d1476ef0",
   "metadata": {},
   "outputs": [
    {
     "data": {
      "text/plain": [
       "10.0"
      ]
     },
     "execution_count": 5,
     "metadata": {},
     "output_type": "execute_result"
    }
   ],
   "source": [
    "100**0.5"
   ]
  },
  {
   "cell_type": "markdown",
   "id": "95232620",
   "metadata": {},
   "source": [
    "#### 3.- ¿Y el cuadrado de 100?"
   ]
  },
  {
   "cell_type": "code",
   "execution_count": 9,
   "id": "14249667",
   "metadata": {},
   "outputs": [
    {
     "data": {
      "text/plain": [
       "10000"
      ]
     },
     "execution_count": 9,
     "metadata": {},
     "output_type": "execute_result"
    }
   ],
   "source": [
    "100**2"
   ]
  },
  {
   "cell_type": "markdown",
   "id": "7fc5bfae",
   "metadata": {},
   "source": [
    "#### 4.- Tenemos la string 'hello'.\n",
    "#### Primero devuelve la letra 'e'\n",
    "#### Luego dale la vuelta a la string \n",
    "#### Después usa dos métodos para devolver la letra 'o'"
   ]
  },
  {
   "cell_type": "code",
   "execution_count": 31,
   "id": "a6d0eb90",
   "metadata": {},
   "outputs": [],
   "source": [
    "s = 'hello'"
   ]
  },
  {
   "cell_type": "code",
   "execution_count": 33,
   "id": "a3f33800",
   "metadata": {},
   "outputs": [
    {
     "data": {
      "text/plain": [
       "'e'"
      ]
     },
     "execution_count": 33,
     "metadata": {},
     "output_type": "execute_result"
    }
   ],
   "source": [
    "s[1]"
   ]
  },
  {
   "cell_type": "code",
   "execution_count": 35,
   "id": "a923459f-8c7f-46c7-ad55-a271687ee3eb",
   "metadata": {},
   "outputs": [
    {
     "data": {
      "text/plain": [
       "'olleh'"
      ]
     },
     "execution_count": 35,
     "metadata": {},
     "output_type": "execute_result"
    }
   ],
   "source": [
    "s[::-1]"
   ]
  },
  {
   "cell_type": "code",
   "execution_count": 37,
   "id": "9caef110-6d0a-40e1-8310-13a51428c28e",
   "metadata": {},
   "outputs": [
    {
     "data": {
      "text/plain": [
       "'o'"
      ]
     },
     "execution_count": 37,
     "metadata": {},
     "output_type": "execute_result"
    }
   ],
   "source": [
    "s[4]"
   ]
  },
  {
   "cell_type": "code",
   "execution_count": 39,
   "id": "ef5d3e02-cd03-4431-963f-fdc8e36c72aa",
   "metadata": {},
   "outputs": [
    {
     "data": {
      "text/plain": [
       "'o'"
      ]
     },
     "execution_count": 39,
     "metadata": {},
     "output_type": "execute_result"
    }
   ],
   "source": [
    "s[4:]"
   ]
  },
  {
   "cell_type": "markdown",
   "id": "0febc918",
   "metadata": {},
   "source": [
    "#### 5.- Crear una lista que contenga esto [0,0,0] de dos formas distintas"
   ]
  },
  {
   "cell_type": "code",
   "execution_count": 17,
   "id": "30981b24",
   "metadata": {},
   "outputs": [
    {
     "data": {
      "text/plain": [
       "[0, 0, 0]"
      ]
     },
     "execution_count": 17,
     "metadata": {},
     "output_type": "execute_result"
    }
   ],
   "source": [
    "lst_1 = [0,0,0]\n",
    "lst_1"
   ]
  },
  {
   "cell_type": "code",
   "execution_count": 21,
   "id": "b51923a5-01af-451e-aa5b-4be548ef86c7",
   "metadata": {},
   "outputs": [
    {
     "data": {
      "text/plain": [
       "[0, 0, 0]"
      ]
     },
     "execution_count": 21,
     "metadata": {},
     "output_type": "execute_result"
    }
   ],
   "source": [
    "lst_2 = [0]*3\n",
    "lst_2"
   ]
  },
  {
   "cell_type": "markdown",
   "id": "80e1a951",
   "metadata": {},
   "source": [
    "#### 6.- Reasigna 'hello' en la lista a continuación para que diga 'goodbye'"
   ]
  },
  {
   "cell_type": "code",
   "execution_count": 41,
   "id": "20d1ebdf",
   "metadata": {},
   "outputs": [
    {
     "data": {
      "text/plain": [
       "[1, 2, [3, 4, 'hello']]"
      ]
     },
     "execution_count": 41,
     "metadata": {},
     "output_type": "execute_result"
    }
   ],
   "source": [
    "lista = [1,2,[3,4,'hello']]\n",
    "lista"
   ]
  },
  {
   "cell_type": "code",
   "execution_count": 45,
   "id": "e9eb03ae",
   "metadata": {},
   "outputs": [
    {
     "data": {
      "text/plain": [
       "[1, 2, [3, 4, 'goodbye']]"
      ]
     },
     "execution_count": 45,
     "metadata": {},
     "output_type": "execute_result"
    }
   ],
   "source": [
    "# reasignación\n",
    "lista = [1,2,[3,4,'goodbye']]\n",
    "lista"
   ]
  },
  {
   "cell_type": "markdown",
   "id": "77e38490",
   "metadata": {},
   "source": [
    "#### 7.- Ordena la siguiente lista"
   ]
  },
  {
   "cell_type": "code",
   "execution_count": null,
   "id": "bc957d55",
   "metadata": {},
   "outputs": [],
   "source": [
    "listaSinOrdenar = [5,3,4,6,1]"
   ]
  },
  {
   "cell_type": "code",
   "execution_count": 49,
   "id": "e2c2fb65",
   "metadata": {},
   "outputs": [
    {
     "data": {
      "text/plain": [
       "[1, 3, 4, 5, 6]"
      ]
     },
     "execution_count": 49,
     "metadata": {},
     "output_type": "execute_result"
    }
   ],
   "source": [
    "listaSinOrdenar = [5, 3, 4, 6, 1]\n",
    "listaSinOrdenar.sort()\n",
    "listaSinOrdenar"
   ]
  },
  {
   "cell_type": "markdown",
   "id": "0cc790ac",
   "metadata": {},
   "source": [
    "#### 8.- En los siguientes diccionarios, extrae el valor de 'hello'"
   ]
  },
  {
   "cell_type": "code",
   "execution_count": null,
   "id": "c390a0bb",
   "metadata": {},
   "outputs": [],
   "source": [
    "f = {'k1':{'k2':'hello'}}"
   ]
  },
  {
   "cell_type": "code",
   "execution_count": 53,
   "id": "4cdcd16e",
   "metadata": {},
   "outputs": [
    {
     "data": {
      "text/plain": [
       "'hello'"
      ]
     },
     "execution_count": 53,
     "metadata": {},
     "output_type": "execute_result"
    }
   ],
   "source": [
    "f = {'k1': {'k2': 'hello'}}\n",
    "hello = f['k1']['k2']\n",
    "hello"
   ]
  },
  {
   "cell_type": "code",
   "execution_count": 65,
   "id": "c0244e1f",
   "metadata": {},
   "outputs": [],
   "source": [
    "d = {'key1':'hello'}"
   ]
  },
  {
   "cell_type": "code",
   "execution_count": 69,
   "id": "196ef04c",
   "metadata": {},
   "outputs": [
    {
     "data": {
      "text/plain": [
       "'hello'"
      ]
     },
     "execution_count": 69,
     "metadata": {},
     "output_type": "execute_result"
    }
   ],
   "source": [
    "d = {'key1':'hello'}\n",
    "hello = d['key1']\n",
    "hello"
   ]
  },
  {
   "cell_type": "code",
   "execution_count": null,
   "id": "344d780b",
   "metadata": {},
   "outputs": [],
   "source": [
    "g = {'k1':[{'o1':['valor escondido',['hello']]}]}"
   ]
  },
  {
   "cell_type": "code",
   "execution_count": 85,
   "id": "e965a858",
   "metadata": {},
   "outputs": [
    {
     "data": {
      "text/plain": [
       "['hello']"
      ]
     },
     "execution_count": 85,
     "metadata": {},
     "output_type": "execute_result"
    }
   ],
   "source": [
    "g = {'k1': [{'o1': ['valor escondido', ['hello']]}]}\n",
    "hello = g['k1'][0]['o1'][1]\n",
    "hello"
   ]
  },
  {
   "cell_type": "code",
   "execution_count": null,
   "id": "663f9ffd",
   "metadata": {},
   "outputs": [],
   "source": [
    "h = {'k1':[1,2,{'k2':['complicado',{'dificil':[1,2,['hello']]}]}]}"
   ]
  },
  {
   "cell_type": "code",
   "execution_count": null,
   "id": "9b9d7d97",
   "metadata": {},
   "outputs": [],
   "source": [
    "h = {'k1':[1,2,{'k2':['complicado',{'dificil':[1,2,['hello']]}]}]}\n",
    "hello = h['k1'] "
   ]
  },
  {
   "cell_type": "markdown",
   "id": "7692eea8",
   "metadata": {},
   "source": [
    "#### 9.- Crea una tupla"
   ]
  },
  {
   "cell_type": "code",
   "execution_count": 87,
   "id": "23886da1",
   "metadata": {},
   "outputs": [
    {
     "data": {
      "text/plain": [
       "(10, 20, 30)"
      ]
     },
     "execution_count": 87,
     "metadata": {},
     "output_type": "execute_result"
    }
   ],
   "source": [
    "t= (10,20,30)\n",
    "t"
   ]
  },
  {
   "cell_type": "markdown",
   "id": "6231d723",
   "metadata": {},
   "source": [
    "#### 10.- Emplea los sets para encontrar los valores únicos de esta lista"
   ]
  },
  {
   "cell_type": "code",
   "execution_count": null,
   "id": "a7cbba3a",
   "metadata": {},
   "outputs": [],
   "source": [
    "listaDuplicada = [1,2,2,33,4,4,11,22,3,3,2]"
   ]
  },
  {
   "cell_type": "code",
   "execution_count": 89,
   "id": "71da8284",
   "metadata": {},
   "outputs": [
    {
     "data": {
      "text/plain": [
       "{1, 2, 3, 4, 11, 22, 33}"
      ]
     },
     "execution_count": 89,
     "metadata": {},
     "output_type": "execute_result"
    }
   ],
   "source": [
    "listaDuplicada = [1,2,2,33,4,4,11,22,3,3,2]\n",
    "set(listaDuplicada)"
   ]
  },
  {
   "cell_type": "markdown",
   "id": "9b217cfc",
   "metadata": {},
   "source": [
    "#### 11.- Haz las siguientes comparaciones:\n",
    "#### Dos mayor que tres\n",
    "#### Tres igual que 2\n",
    "#### La raíz cuadrada de cuatro no es igual a 2"
   ]
  },
  {
   "cell_type": "code",
   "execution_count": 91,
   "id": "59b70e21",
   "metadata": {},
   "outputs": [
    {
     "data": {
      "text/plain": [
       "False"
      ]
     },
     "execution_count": 91,
     "metadata": {},
     "output_type": "execute_result"
    }
   ],
   "source": [
    "# 2 mayor que 3\n",
    "2>3"
   ]
  },
  {
   "cell_type": "code",
   "execution_count": 93,
   "id": "89985eaf",
   "metadata": {},
   "outputs": [
    {
     "data": {
      "text/plain": [
       "False"
      ]
     },
     "execution_count": 93,
     "metadata": {},
     "output_type": "execute_result"
    }
   ],
   "source": [
    "# 3 igual que 2\n",
    "3==2"
   ]
  },
  {
   "cell_type": "code",
   "execution_count": 99,
   "id": "16c4febf",
   "metadata": {},
   "outputs": [
    {
     "data": {
      "text/plain": [
       "False"
      ]
     },
     "execution_count": 99,
     "metadata": {},
     "output_type": "execute_result"
    }
   ],
   "source": [
    "# raíz cuadrada de 4 no es igual a 2\n",
    "4**0.5!=2"
   ]
  }
 ],
 "metadata": {
  "kernelspec": {
   "display_name": "Python 3 (ipykernel)",
   "language": "python",
   "name": "python3"
  },
  "language_info": {
   "codemirror_mode": {
    "name": "ipython",
    "version": 3
   },
   "file_extension": ".py",
   "mimetype": "text/x-python",
   "name": "python",
   "nbconvert_exporter": "python",
   "pygments_lexer": "ipython3",
   "version": "3.12.4"
  }
 },
 "nbformat": 4,
 "nbformat_minor": 5
}
