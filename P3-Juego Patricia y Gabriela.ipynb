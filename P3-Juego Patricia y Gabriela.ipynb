{
 "cells": [
  {
   "cell_type": "markdown",
   "id": "e87fdfc4",
   "metadata": {},
   "source": [
    "PRACTICA JUEGO CONDICIONALES BUCLES Patricia Noguera Luna y Gabriela Murillo Lasso\n",
    "\n",
    "\n",
    " JUEGO DE ADIVINANZAS\n",
    "\n",
    " Escribe un programa que coja un número entero del 1 al 100, y los jugadores tienen que tratar de adivinar el número.\n",
    "\n",
    "Las reglas son las siguientes:\n",
    "\n",
    "1. Si un jugador escoje un número menor que 1 o mayor que 100, el programa dice \"FUERA DE LÍMITES\"\n",
    "2. En el primer turno del jugador, si está en un rango de 10 del número dice \"¡CALIENTE!\". Si está fuera de ese rango dice \"¡FRIO!\"\n",
    "3. En todas las rondas siguientes, si el jugador se acerca más que la vez anterior, dice \"¡MAS CALIENTE!\". Si está más lejos que la anterior vez dice \"¡MAS FRIO!\"\n",
    "4. Cuando el jugador acierte el número, les dirá que han acertado y cuántos intentos les ha llevado\n",
    "\n",
    "\n",
    "\n"
   ]
  },
  {
   "cell_type": "markdown",
   "id": "1ea418c3",
   "metadata": {},
   "source": [
    "##### PISTAS\n",
    "1. Trata obtener un número aleatorio entre el 1 y el 100\n",
    "2. Haz una introducción de tu juego y explica las reglas\n",
    "3. Crea una lista que almacene los intentos. \n",
    "4. Haz un bucle que evalúe un número. Prueba que funcione primero. While podría ir bien\n",
    "5. Modifica ese bucle para que compare nuestro número con el intento. Si se acierta usa break, si no puedes usar continue y tienes que seguir preguntando al jugador por nuevos intentos"
   ]
  },
  {
   "cell_type": "code",
   "execution_count": 181,
   "id": "9d8095d9",
   "metadata": {},
   "outputs": [
    {
     "name": "stdout",
     "output_type": "stream",
     "text": [
      "¡Bienvenido a este juego de adivinanzas de Gabriela y Patricia!\n",
      "El objetivo del juego es adivinar un número aleatorio entre el 1 y el 100\n",
      "Las reglas son:\n",
      "si el número se encuentra en un rango de 10 del número dice \"¡CALIENTE!\" y si está fuera de ese rango dice \"¡FRIO!\"\n",
      "si se va acercando más que la vez anterior, dice \"¡MAS CALIENTE!\" y si se aleja, dice \"¡MAS FRIO!\"\n",
      "Se le indicará cuando acierte y cuantos intentos ha realizado\n",
      "¿Preparado..? ¡A jugar!\n"
     ]
    }
   ],
   "source": [
    "print ('¡Bienvenido a este juego de adivinanzas de Gabriela y Patricia!')\n",
    "print ( 'El objetivo del juego es adivinar un número aleatorio entre el 1 y el 100')\n",
    "print ( 'Las reglas son:')\n",
    "print ('si el número se encuentra en un rango de 10 del número dice \"¡CALIENTE!\" y si está fuera de ese rango dice \"¡FRIO!\"') \n",
    "print ('si se va acercando más que la vez anterior, dice \"¡MAS CALIENTE!\" y si se aleja, dice \"¡MAS FRIO!\"') \n",
    "print ( 'Se le indicará cuando acierte y cuantos intentos ha realizado')\n",
    "print ('¿Preparado..? ¡A jugar!')"
   ]
  },
  {
   "cell_type": "code",
   "execution_count": 225,
   "id": "6d3358e2-10f1-47d4-9fe0-46fc0bc06d40",
   "metadata": {},
   "outputs": [
    {
     "data": {
      "text/plain": [
       "33"
      ]
     },
     "execution_count": 225,
     "metadata": {},
     "output_type": "execute_result"
    }
   ],
   "source": [
    "import random\n",
    "num_secreto = random.randint(1,100)\n",
    "num_secreto"
   ]
  },
  {
   "cell_type": "markdown",
   "id": "9e13509f-0188-4299-8187-c3057823c08e",
   "metadata": {
    "jp-MarkdownHeadingCollapsed": true
   },
   "source": [
    "lista_intentos = []"
   ]
  },
  {
   "cell_type": "code",
   "execution_count": 228,
   "id": "4b69ba41-090e-4ed2-93fa-2c81807ba724",
   "metadata": {
    "scrolled": true
   },
   "outputs": [
    {
     "name": "stdin",
     "output_type": "stream",
     "text": [
      "Esocoje un número entre (1,100)   33\n"
     ]
    },
    {
     "name": "stdout",
     "output_type": "stream",
     "text": [
      "continue\n"
     ]
    }
   ],
   "source": [
    "while True:\n",
    "    intento = int(input(\"Esocoje un número entre (1,100)  \"))\n",
    "    if intento not in range(1,101):\n",
    "        print('Invalid number')\n",
    "        continue\n",
    "    else:\n",
    "        print('continue')\n",
    "        break"
   ]
  },
  {
   "cell_type": "code",
   "execution_count": 217,
   "id": "e22f1a94-27eb-4b99-a823-fb200c2064a2",
   "metadata": {},
   "outputs": [],
   "source": [
    "lista_intentos.append(intento)"
   ]
  },
  {
   "cell_type": "code",
   "execution_count": 221,
   "id": "e08a3bea-9c4b-4ca1-aaa8-89162a9ba8c1",
   "metadata": {},
   "outputs": [
    {
     "name": "stdout",
     "output_type": "stream",
     "text": [
      "¡Correcto! Has adivinado el número en 11 intentos.\n"
     ]
    }
   ],
   "source": [
    "if intento == num_secreto:\n",
    "        print(f\"¡Correcto! Has adivinado el número en {len(lista_intentos)} intentos.\") "
   ]
  },
  {
   "cell_type": "code",
   "execution_count": 238,
   "id": "c8b26561-10ce-4d0e-8513-d1c414624c1b",
   "metadata": {},
   "outputs": [
    {
     "ename": "IndentationError",
     "evalue": "unexpected indent (1572907599.py, line 11)",
     "output_type": "error",
     "traceback": [
      "\u001b[1;36m  Cell \u001b[1;32mIn[238], line 11\u001b[1;36m\u001b[0m\n\u001b[1;33m    if intento_actual < intento_anterior:\u001b[0m\n\u001b[1;37m    ^\u001b[0m\n\u001b[1;31mIndentationError\u001b[0m\u001b[1;31m:\u001b[0m unexpected indent\n"
     ]
    }
   ],
   "source": [
    "if len(lista_intentos) == 1:\n",
    "        if abs(num_secreto - intento) <= 10:\n",
    "            print('¡CALIENTE!')\n",
    "        else:\n",
    "            print('¡FRÍO!')\n",
    "\n",
    "else:\n",
    "     intento_anterior = abs(num_secreto - intentos[-2])\n",
    "     intento_actual = abs(num_secreto - intento)\n",
    "        \n",
    "        if intento_actual < intento_anterior:\n",
    "            print('¡MÁS CALIENTE!')\n",
    "        else:\n",
    "            print('¡MÁS FRÍO!')"
   ]
  }
 ],
 "metadata": {
  "kernelspec": {
   "display_name": "Python 3 (ipykernel)",
   "language": "python",
   "name": "python3"
  },
  "language_info": {
   "codemirror_mode": {
    "name": "ipython",
    "version": 3
   },
   "file_extension": ".py",
   "mimetype": "text/x-python",
   "name": "python",
   "nbconvert_exporter": "python",
   "pygments_lexer": "ipython3",
   "version": "3.12.4"
  }
 },
 "nbformat": 4,
 "nbformat_minor": 5
}
