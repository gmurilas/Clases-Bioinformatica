{
 "cells": [
  {
   "cell_type": "markdown",
   "id": "985e6f9b",
   "metadata": {},
   "source": [
    "# PRACTICA 4\n",
    "\n",
    "### Resuelve los siguientes ejercicios"
   ]
  },
  {
   "cell_type": "code",
   "execution_count": null,
   "id": "6d56490b-7cc1-45cc-ade0-cb299a721366",
   "metadata": {},
   "outputs": [],
   "source": [
    "Patricia Noguera Luna y Gabriela Murillo Lasso"
   ]
  },
  {
   "cell_type": "markdown",
   "id": "28748e51",
   "metadata": {},
   "source": [
    "##### 1.- Abre el fichero dna.txt, guarda una lista del contenido del archivo. Devuelve su longitud y su primer caracter"
   ]
  },
  {
   "cell_type": "code",
   "execution_count": 87,
   "id": "ad0e8af8-727c-4aff-b2fb-0fc561b2210c",
   "metadata": {},
   "outputs": [
    {
     "name": "stdout",
     "output_type": "stream",
     "text": [
      "longitud caracteres: 123\n",
      "primer caracter: A\n",
      "lista: ['ATCGATCGATCGATCGACTGACTAGTCATAGCTATGCATGTAGCTACTCGATCGATCGATCGATCGATCGATCGATCGATCGATCATGCTATCATCGATCGATATCGATGCATCGACTACTAT']\n"
     ]
    }
   ],
   "source": [
    "with open('dna.txt', 'r') as file:\n",
    "    contenido = file.read() \n",
    "    \n",
    "lista = contenido.splitlines()\n",
    "    \n",
    "longitud_caracteres = len(contenido)\n",
    "\n",
    "primer_caracter = contenido[0] if contenido else None  \n",
    "\n",
    "print('longitud caracteres:',longitud_caracteres)  \n",
    "print('primer caracter:',primer_caracter)  \n",
    "print('lista:',lista)\n"
   ]
  },
  {
   "cell_type": "markdown",
   "id": "9b87396a",
   "metadata": {},
   "source": [
    "##### 2.- Crea dos archivos. Uno almacena los accession que empiezen por 'a' y el otro el resto"
   ]
  },
  {
   "cell_type": "code",
   "execution_count": 9,
   "id": "73957856",
   "metadata": {},
   "outputs": [],
   "source": [
    "accs = ['ab56', 'bh84', 'hv76', 'ay93', 'ap97', 'bd72']"
   ]
  },
  {
   "cell_type": "code",
   "execution_count": 105,
   "id": "8f62bc8f",
   "metadata": {},
   "outputs": [
    {
     "name": "stdout",
     "output_type": "stream",
     "text": [
      "Archivos creados: 'accesiones_a.txt' y 'accesiones_otros.txt'\n"
     ]
    }
   ],
   "source": [
    "accesiones_a = [acc for acc in accs if acc.startswith('a')]\n",
    "accesiones_otros = [acc for acc in accs if not acc.startswith('a')]\n",
    "\n",
    "with open('accesiones_a.txt', 'w') as file_a:\n",
    "    for acc in accesiones_a:\n",
    "        file_a.write(acc + '\\n')\n",
    "        \n",
    "with open('accesiones_otros.txt', 'w') as file_otros:\n",
    "    for acc in accesiones_otros:\n",
    "        file_otros.write(acc + '\\n')\n",
    "\n",
    "print(\"Archivos creados: 'accesiones_a.txt' y 'accesiones_otros.txt'\")\n"
   ]
  },
  {
   "cell_type": "markdown",
   "id": "9cbb4adf",
   "metadata": {},
   "source": [
    "##### 3.- Imprime solamente los accessions de la lista anterior que empiecen por 'a' y no acaben con '6'. Pista: usa endswith() y startswidth()"
   ]
  },
  {
   "cell_type": "code",
   "execution_count": 124,
   "id": "b32ca419",
   "metadata": {},
   "outputs": [],
   "source": [
    "for acc in accs:\n",
    "    if acc.startswith('a') and not acc.endswith('6'):\n",
    "        print(acc)"
   ]
  },
  {
   "cell_type": "markdown",
   "id": "42c397b0",
   "metadata": {},
   "source": [
    "##### 4.- Escribe una función que cuente el porcentaje de A de una secuencia"
   ]
  },
  {
   "cell_type": "code",
   "execution_count": 109,
   "id": "da633510",
   "metadata": {},
   "outputs": [
    {
     "name": "stdout",
     "output_type": "stream",
     "text": [
      "El porcentaje de A en la secuencia 'AGCTAGCTAGCTAG' es: 28.57%\n"
     ]
    }
   ],
   "source": [
    "def porcentaje_A(secuencia):\n",
    "\n",
    "    secuencia = secuencia.upper()  \n",
    "    \n",
    "    total_nucleotidos = len(secuencia)\n",
    "     \n",
    "    conteo_A = secuencia.count('A')\n",
    "    \n",
    "    if total_nucleotidos > 0:  \n",
    "        porcentaje = (conteo_A / total_nucleotidos) * 100\n",
    "    else:\n",
    "        porcentaje = 0.0 \n",
    "    \n",
    "    return porcentaje\n",
    "\n",
    "secuencia_ejemplo = \"AGCTAGCTAGCTAG\"\n",
    "resultado = porcentaje_A(secuencia_ejemplo)\n",
    "print(f\"El porcentaje de A en la secuencia '{secuencia_ejemplo}' es: {resultado:.2f}%\")\n"
   ]
  },
  {
   "cell_type": "markdown",
   "id": "054b8f51",
   "metadata": {},
   "source": [
    "##### ¿Puedes hacer que devuelva dos decimales? ¿Y que lidie con mayúsculas y minúsculas?"
   ]
  },
  {
   "cell_type": "code",
   "execution_count": 111,
   "id": "dc1d5907",
   "metadata": {
    "scrolled": true
   },
   "outputs": [
    {
     "name": "stdout",
     "output_type": "stream",
     "text": [
      "El porcentaje de A en la secuencia 'agctAgctAGCTag' es: 28.57%\n"
     ]
    }
   ],
   "source": [
    "def porcentaje_A(secuencia):\n",
    "\n",
    "    secuencia = secuencia.upper()\n",
    "\n",
    "    total_nucleotidos = len(secuencia)\n",
    "\n",
    "    conteo_A = secuencia.count('A')\n",
    "\n",
    "    if total_nucleotidos > 0:  \n",
    "        porcentaje = (conteo_A / total_nucleotidos) * 100\n",
    "    else:\n",
    "        porcentaje = 0.0  \n",
    "        \n",
    "    return f\"{porcentaje:.2f}\"\n",
    "\n",
    "secuencia_ejemplo = \"agctAgctAGCTag\"\n",
    "resultado = porcentaje_A(secuencia_ejemplo)\n",
    "print(f\"El porcentaje de A en la secuencia '{secuencia_ejemplo}' es: {resultado}%\")\n"
   ]
  },
  {
   "cell_type": "markdown",
   "id": "36a03b5f",
   "metadata": {},
   "source": [
    "##### ¿Y que devuelva el número de decimales que yo quiero?"
   ]
  },
  {
   "cell_type": "code",
   "execution_count": 113,
   "id": "1ac51951",
   "metadata": {},
   "outputs": [
    {
     "name": "stdout",
     "output_type": "stream",
     "text": [
      "El porcentaje de A en la secuencia 'agctAgctAGCTag' es: 28.571%\n"
     ]
    }
   ],
   "source": [
    "def porcentaje_A(secuencia, decimales=2):\n",
    "\n",
    "    secuencia = secuencia.upper()\n",
    "\n",
    "    total_nucleotidos = len(secuencia)\n",
    "\n",
    "    conteo_A = secuencia.count('A')\n",
    "\n",
    "    if total_nucleotidos > 0: \n",
    "        porcentaje = (conteo_A / total_nucleotidos) * 100\n",
    "    else:\n",
    "        porcentaje = 0.0  \n",
    "        \n",
    "    return f\"{porcentaje:.{decimales}f}\"\n",
    "\n",
    "secuencia_ejemplo = \"agctAgctAGCTag\"\n",
    "resultado = porcentaje_A(secuencia_ejemplo, decimales=3)\n",
    "print(f\"El porcentaje de A en la secuencia '{secuencia_ejemplo}' es: {resultado}%\")\n"
   ]
  },
  {
   "cell_type": "markdown",
   "id": "2c811d84",
   "metadata": {},
   "source": [
    "##### ¿Sabes poner un valor por defecto en un argumento?"
   ]
  },
  {
   "cell_type": "code",
   "execution_count": 115,
   "id": "60981086",
   "metadata": {},
   "outputs": [
    {
     "name": "stdout",
     "output_type": "stream",
     "text": [
      "Argumento 1: 5, Argumento 2: 10\n",
      "Argumento 1: 5, Argumento 2: 20\n"
     ]
    }
   ],
   "source": [
    "def mi_funcion(argumento1, argumento2=10):\n",
    "    \n",
    "    print(f\"Argumento 1: {argumento1}, Argumento 2: {argumento2}\")\n",
    "\n",
    "mi_funcion(5)          \n",
    "mi_funcion(5, 20)     \n"
   ]
  },
  {
   "cell_type": "markdown",
   "id": "ab2c106c",
   "metadata": {},
   "source": [
    "##### ¿Qué pasa si no ponemos un argumento? ¿Sabrías hacer una función encapsulada?"
   ]
  },
  {
   "cell_type": "code",
   "execution_count": 117,
   "id": "b155dc1e",
   "metadata": {},
   "outputs": [
    {
     "ename": "TypeError",
     "evalue": "sumar() missing 1 required positional argument: 'b'",
     "output_type": "error",
     "traceback": [
      "\u001b[1;31m---------------------------------------------------------------------------\u001b[0m",
      "\u001b[1;31mTypeError\u001b[0m                                 Traceback (most recent call last)",
      "Cell \u001b[1;32mIn[117], line 4\u001b[0m\n\u001b[0;32m      1\u001b[0m \u001b[38;5;28;01mdef\u001b[39;00m \u001b[38;5;21msumar\u001b[39m(a, b):\n\u001b[0;32m      2\u001b[0m     \u001b[38;5;28;01mreturn\u001b[39;00m a \u001b[38;5;241m+\u001b[39m b\n\u001b[1;32m----> 4\u001b[0m resultado \u001b[38;5;241m=\u001b[39m sumar(\u001b[38;5;241m5\u001b[39m)\n",
      "\u001b[1;31mTypeError\u001b[0m: sumar() missing 1 required positional argument: 'b'"
     ]
    }
   ],
   "source": [
    "def sumar(a, b):\n",
    "    return a + b\n",
    "    \n",
    "resultado = sumar(5)"
   ]
  },
  {
   "cell_type": "code",
   "execution_count": 119,
   "id": "8e68e396-6685-453c-8be1-1faeee0eb39a",
   "metadata": {},
   "outputs": [
    {
     "name": "stdout",
     "output_type": "stream",
     "text": [
      "El porcentaje de A en la secuencia 'agctAgctAGCTag' es: 28.57%\n",
      "El porcentaje de A en la secuencia 'agctAgctAGCTag' es: 28.571%\n"
     ]
    }
   ],
   "source": [
    "def calcular_porcentaje_A(secuencia, decimales=2):\n",
    "\n",
    "    def porcentaje_A(secuencia):\n",
    "        \n",
    "        secuencia = secuencia.upper() \n",
    "        total_nucleotidos = len(secuencia)  \n",
    "        conteo_A = secuencia.count('A')  \n",
    "        \n",
    "        if total_nucleotidos > 0:\n",
    "            return (conteo_A / total_nucleotidos) * 100\n",
    "        else:\n",
    "            return 0.0  \n",
    "            \n",
    "    porcentaje = porcentaje_A(secuencia)\n",
    "    \n",
    "    return f\"{porcentaje:.{decimales}f}\"\n",
    "\n",
    "secuencia_ejemplo = \"agctAgctAGCTag\"\n",
    "resultado = calcular_porcentaje_A(secuencia_ejemplo)  \n",
    "print(f\"El porcentaje de A en la secuencia '{secuencia_ejemplo}' es: {resultado}%\")\n",
    "\n",
    "resultado_con_tres_decimales = calcular_porcentaje_A(secuencia_ejemplo, decimales=3)  \n",
    "print(f\"El porcentaje de A en la secuencia '{secuencia_ejemplo}' es: {resultado_con_tres_decimales}%\")\n"
   ]
  },
  {
   "cell_type": "markdown",
   "id": "83af4b0f",
   "metadata": {},
   "source": [
    "##### Testea tu función original con assert"
   ]
  },
  {
   "cell_type": "code",
   "execution_count": 121,
   "id": "2bf31b44",
   "metadata": {},
   "outputs": [
    {
     "ename": "AssertionError",
     "evalue": "",
     "output_type": "error",
     "traceback": [
      "\u001b[1;31m---------------------------------------------------------------------------\u001b[0m",
      "\u001b[1;31mAssertionError\u001b[0m                            Traceback (most recent call last)",
      "Cell \u001b[1;32mIn[121], line 34\u001b[0m\n\u001b[0;32m     30\u001b[0m     \u001b[38;5;28;01massert\u001b[39;00m porcentaje_A(\u001b[38;5;124m\"\u001b[39m\u001b[38;5;124mAGCTAGCTAGCTAGCT\u001b[39m\u001b[38;5;124m\"\u001b[39m, decimales\u001b[38;5;241m=\u001b[39m\u001b[38;5;241m4\u001b[39m) \u001b[38;5;241m==\u001b[39m \u001b[38;5;124m\"\u001b[39m\u001b[38;5;124m37.5000\u001b[39m\u001b[38;5;124m\"\u001b[39m \n\u001b[0;32m     32\u001b[0m     \u001b[38;5;28mprint\u001b[39m(\u001b[38;5;124m\"\u001b[39m\u001b[38;5;124mTodas las pruebas pasaron con éxito.\u001b[39m\u001b[38;5;124m\"\u001b[39m)\n\u001b[1;32m---> 34\u001b[0m test_porcentaje_A()\n",
      "Cell \u001b[1;32mIn[121], line 18\u001b[0m, in \u001b[0;36mtest_porcentaje_A\u001b[1;34m()\u001b[0m\n\u001b[0;32m     16\u001b[0m \u001b[38;5;28;01mdef\u001b[39;00m \u001b[38;5;21mtest_porcentaje_A\u001b[39m():\n\u001b[1;32m---> 18\u001b[0m     \u001b[38;5;28;01massert\u001b[39;00m porcentaje_A(\u001b[38;5;124m\"\u001b[39m\u001b[38;5;124magctAgctAGCTag\u001b[39m\u001b[38;5;124m\"\u001b[39m) \u001b[38;5;241m==\u001b[39m \u001b[38;5;124m\"\u001b[39m\u001b[38;5;124m50.00\u001b[39m\u001b[38;5;124m\"\u001b[39m  \n\u001b[0;32m     20\u001b[0m     \u001b[38;5;28;01massert\u001b[39;00m porcentaje_A(\u001b[38;5;124m\"\u001b[39m\u001b[38;5;124m\"\u001b[39m) \u001b[38;5;241m==\u001b[39m \u001b[38;5;124m\"\u001b[39m\u001b[38;5;124m0.00\u001b[39m\u001b[38;5;124m\"\u001b[39m  \n\u001b[0;32m     22\u001b[0m     \u001b[38;5;28;01massert\u001b[39;00m porcentaje_A(\u001b[38;5;124m\"\u001b[39m\u001b[38;5;124mAAAA\u001b[39m\u001b[38;5;124m\"\u001b[39m) \u001b[38;5;241m==\u001b[39m \u001b[38;5;124m\"\u001b[39m\u001b[38;5;124m100.00\u001b[39m\u001b[38;5;124m\"\u001b[39m \n",
      "\u001b[1;31mAssertionError\u001b[0m: "
     ]
    }
   ],
   "source": [
    "def porcentaje_A(secuencia, decimales=2):\n",
    "\n",
    "    secuencia = secuencia.upper()\n",
    "\n",
    "    total_nucleotidos = len(secuencia)\n",
    "    \n",
    "    conteo_A = secuencia.count('A')\n",
    "    \n",
    "    if total_nucleotidos > 0:\n",
    "        porcentaje = (conteo_A / total_nucleotidos) * 100\n",
    "    else:\n",
    "        porcentaje = 0.0  \n",
    "\n",
    "    return f\"{porcentaje:.{decimales}f}\"\n",
    "\n",
    "def test_porcentaje_A():\n",
    "\n",
    "    assert porcentaje_A(\"agctAgctAGCTag\") == \"50.00\"  \n",
    "\n",
    "    assert porcentaje_A(\"\") == \"0.00\"  \n",
    "\n",
    "    assert porcentaje_A(\"AAAA\") == \"100.00\" \n",
    "\n",
    "    assert porcentaje_A(\"CGT\") == \"0.00\"  \n",
    "\n",
    "    assert porcentaje_A(\"aGcTaGcT\") == \"50.00\" \n",
    "\n",
    "    assert porcentaje_A(\"agctagct\", decimales=3) == \"25.000\"  \n",
    "\n",
    "    assert porcentaje_A(\"AGCTAGCTAGCTAGCT\", decimales=4) == \"37.5000\" \n",
    "\n",
    "    print(\"Todas las pruebas pasaron con éxito.\")\n",
    "\n",
    "test_porcentaje_A()\n"
   ]
  },
  {
   "cell_type": "markdown",
   "id": "991abaa2",
   "metadata": {},
   "source": [
    "#### 5.- De la lista de accessions que se proporciona obtén lo siguiente:\n",
    "1. Los que tengan el número 5\n",
    "2. Los que tengan la letra 'd' o la 'e'\n",
    "3. Los que tengan las letras 'd' y 'e' en ese orden\n",
    "4. Los que tengan las letras 'd' y 'e' en ese orden con una letra cualquiera en medio\n",
    "5. Los que tengan ambas letras 'd' y 'e' en cualquier orden\n",
    "6. Los que empiezan por 'x' o por 'y'\n",
    "7. Los que empiezan por 'x' o 'y' y terminan por 'e'\n",
    "8. Los que tienen tres o más dígitos seguidos\n",
    "9. Los que terminan con 'd' seguidos de 'a' o 'r' o 'p'"
   ]
  },
  {
   "cell_type": "code",
   "execution_count": 57,
   "id": "6388ac75",
   "metadata": {},
   "outputs": [],
   "source": [
    "import re"
   ]
  },
  {
   "cell_type": "code",
   "execution_count": 59,
   "id": "d00d3ce7",
   "metadata": {},
   "outputs": [],
   "source": [
    "accs = ['xkn59438', 'yhdck2', 'eihd39d9', 'chdsye847', 'hedle3455', 'xjhd53e', '45da', 'de37dp']"
   ]
  },
  {
   "cell_type": "code",
   "execution_count": 63,
   "id": "7cc44ceb-0004-405c-bab5-875f72538fb8",
   "metadata": {},
   "outputs": [
    {
     "name": "stdout",
     "output_type": "stream",
     "text": [
      "Accesiones que tienen el número 5: ['xkn59438', 'hedle3455', 'xjhd53e', '45da']\n",
      "Accesiones que tienen 'd' o 'e': ['yhdck2', 'eihd39d9', 'chdsye847', 'hedle3455', 'xjhd53e', '45da', 'de37dp']\n",
      "Accesiones que tienen 'd' y 'e' en ese orden: ['chdsye847', 'hedle3455', 'xjhd53e', 'de37dp']\n",
      "Accesiones que tienen 'd' y 'e' con una letra en medio: ['hedle3455']\n",
      "Accesiones que tienen 'd' y 'e' en cualquier orden: ['eihd39d9', 'chdsye847', 'hedle3455', 'xjhd53e', 'de37dp']\n",
      "Accesiones que empiezan por 'x' o 'y': ['xkn59438', 'yhdck2', 'xjhd53e']\n",
      "Accesiones que empiezan por 'x' o 'y' y terminan por 'e': ['xjhd53e']\n",
      "Accesiones que tienen tres o más dígitos seguidos: ['xkn59438', 'chdsye847', 'hedle3455']\n",
      "Accesiones que terminan con 'd' seguido de 'a', 'r' o 'p': ['45da', 'de37dp']\n"
     ]
    }
   ],
   "source": [
    "accesiones_con_5 = [acc for acc in accs if '5' in acc]\n",
    "print(\"Accesiones que tienen el número 5:\", accesiones_con_5)\n",
    "\n",
    "accesiones_con_d_o_e = [acc for acc in accs if 'd' in acc or 'e' in acc]\n",
    "print(\"Accesiones que tienen 'd' o 'e':\", accesiones_con_d_o_e)\n",
    "\n",
    "accesiones_con_d_y_e = [acc for acc in accs if re.search('d.*e', acc)]\n",
    "print(\"Accesiones que tienen 'd' y 'e' en ese orden:\", accesiones_con_d_y_e)\n",
    "\n",
    "accesiones_con_d_letra_e = [acc for acc in accs if re.search('d.e', acc)]\n",
    "print(\"Accesiones que tienen 'd' y 'e' con una letra en medio:\", accesiones_con_d_letra_e)\n",
    "\n",
    "accesiones_con_d_y_e_en_cualquier_orden = [acc for acc in accs if re.search('d.*e|e.*d', acc)]\n",
    "print(\"Accesiones que tienen 'd' y 'e' en cualquier orden:\", accesiones_con_d_y_e_en_cualquier_orden)\n",
    "\n",
    "accesiones_empiezan_por_x_o_y = [acc for acc in accs if acc.startswith('x') or acc.startswith('y')]\n",
    "print(\"Accesiones que empiezan por 'x' o 'y':\", accesiones_empiezan_por_x_o_y)\n",
    "\n",
    "accesiones_empiezan_y_terminan_por_e = [acc for acc in accs if (acc.startswith('x') or acc.startswith('y')) and acc.endswith('e')]\n",
    "print(\"Accesiones que empiezan por 'x' o 'y' y terminan por 'e':\", accesiones_empiezan_y_terminan_por_e)\n",
    "\n",
    "accesiones_con_tres_digitos_seguidos = [acc for acc in accs if re.search(r'\\d{3,}', acc)]\n",
    "print(\"Accesiones que tienen tres o más dígitos seguidos:\", accesiones_con_tres_digitos_seguidos)\n",
    "\n",
    "accesiones_terminan_con_d_y_a_r_o_p = [acc for acc in accs if re.search(r'd[arp]$', acc)]\n",
    "print(\"Accesiones que terminan con 'd' seguido de 'a', 'r' o 'p':\", accesiones_terminan_con_d_y_a_r_o_p)\n"
   ]
  }
 ],
 "metadata": {
  "kernelspec": {
   "display_name": "Python 3 (ipykernel)",
   "language": "python",
   "name": "python3"
  },
  "language_info": {
   "codemirror_mode": {
    "name": "ipython",
    "version": 3
   },
   "file_extension": ".py",
   "mimetype": "text/x-python",
   "name": "python",
   "nbconvert_exporter": "python",
   "pygments_lexer": "ipython3",
   "version": "3.12.4"
  }
 },
 "nbformat": 4,
 "nbformat_minor": 5
}
